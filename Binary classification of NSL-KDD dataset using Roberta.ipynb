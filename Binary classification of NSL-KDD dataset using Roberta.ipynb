{
 "cells": [
  {
   "cell_type": "code",
   "execution_count": 1,
   "metadata": {
    "colab": {
     "base_uri": "https://localhost:8080/",
     "height": 595
    },
    "colab_type": "code",
    "executionInfo": {
     "elapsed": 14571,
     "status": "ok",
     "timestamp": 1598033310748,
     "user": {
      "displayName": "Kahraman koştaş",
      "photoUrl": "https://lh3.googleusercontent.com/a-/AOh14Gjz1P7fzID2R4O_AUPpUS69mK--gaX6FsLYnJLsIA=s64",
      "userId": "10886631466279441235"
     },
     "user_tz": -60
    },
    "id": "CZKw89imimNN",
    "outputId": "e99bd3f6-fb3c-4fba-8505-4d0eb8b137f4"
   },
   "outputs": [
    {
     "name": "stdout",
     "output_type": "stream",
     "text": [
      "Collecting transformers\n",
      "\u001b[?25l  Downloading https://files.pythonhosted.org/packages/27/3c/91ed8f5c4e7ef3227b4119200fc0ed4b4fd965b1f0172021c25701087825/transformers-3.0.2-py3-none-any.whl (769kB)\n",
      "\u001b[K     |████████████████████████████████| 778kB 5.4MB/s \n",
      "\u001b[?25hRequirement already satisfied: regex!=2019.12.17 in /usr/local/lib/python3.6/dist-packages (from transformers) (2019.12.20)\n",
      "Requirement already satisfied: tqdm>=4.27 in /usr/local/lib/python3.6/dist-packages (from transformers) (4.41.1)\n",
      "Collecting sacremoses\n",
      "\u001b[?25l  Downloading https://files.pythonhosted.org/packages/7d/34/09d19aff26edcc8eb2a01bed8e98f13a1537005d31e95233fd48216eed10/sacremoses-0.0.43.tar.gz (883kB)\n",
      "\u001b[K     |████████████████████████████████| 890kB 31.3MB/s \n",
      "\u001b[?25hRequirement already satisfied: dataclasses; python_version < \"3.7\" in /usr/local/lib/python3.6/dist-packages (from transformers) (0.7)\n",
      "Requirement already satisfied: numpy in /usr/local/lib/python3.6/dist-packages (from transformers) (1.18.5)\n",
      "Requirement already satisfied: filelock in /usr/local/lib/python3.6/dist-packages (from transformers) (3.0.12)\n",
      "Collecting sentencepiece!=0.1.92\n",
      "\u001b[?25l  Downloading https://files.pythonhosted.org/packages/d4/a4/d0a884c4300004a78cca907a6ff9a5e9fe4f090f5d95ab341c53d28cbc58/sentencepiece-0.1.91-cp36-cp36m-manylinux1_x86_64.whl (1.1MB)\n",
      "\u001b[K     |████████████████████████████████| 1.1MB 50.2MB/s \n",
      "\u001b[?25hCollecting tokenizers==0.8.1.rc1\n",
      "\u001b[?25l  Downloading https://files.pythonhosted.org/packages/40/d0/30d5f8d221a0ed981a186c8eb986ce1c94e3a6e87f994eae9f4aa5250217/tokenizers-0.8.1rc1-cp36-cp36m-manylinux1_x86_64.whl (3.0MB)\n",
      "\u001b[K     |████████████████████████████████| 3.0MB 55.6MB/s \n",
      "\u001b[?25hRequirement already satisfied: packaging in /usr/local/lib/python3.6/dist-packages (from transformers) (20.4)\n",
      "Requirement already satisfied: requests in /usr/local/lib/python3.6/dist-packages (from transformers) (2.23.0)\n",
      "Requirement already satisfied: six in /usr/local/lib/python3.6/dist-packages (from sacremoses->transformers) (1.15.0)\n",
      "Requirement already satisfied: click in /usr/local/lib/python3.6/dist-packages (from sacremoses->transformers) (7.1.2)\n",
      "Requirement already satisfied: joblib in /usr/local/lib/python3.6/dist-packages (from sacremoses->transformers) (0.16.0)\n",
      "Requirement already satisfied: pyparsing>=2.0.2 in /usr/local/lib/python3.6/dist-packages (from packaging->transformers) (2.4.7)\n",
      "Requirement already satisfied: urllib3!=1.25.0,!=1.25.1,<1.26,>=1.21.1 in /usr/local/lib/python3.6/dist-packages (from requests->transformers) (1.24.3)\n",
      "Requirement already satisfied: idna<3,>=2.5 in /usr/local/lib/python3.6/dist-packages (from requests->transformers) (2.10)\n",
      "Requirement already satisfied: certifi>=2017.4.17 in /usr/local/lib/python3.6/dist-packages (from requests->transformers) (2020.6.20)\n",
      "Requirement already satisfied: chardet<4,>=3.0.2 in /usr/local/lib/python3.6/dist-packages (from requests->transformers) (3.0.4)\n",
      "Building wheels for collected packages: sacremoses\n",
      "  Building wheel for sacremoses (setup.py) ... \u001b[?25l\u001b[?25hdone\n",
      "  Created wheel for sacremoses: filename=sacremoses-0.0.43-cp36-none-any.whl size=893260 sha256=e9973bd3fa6b19101eebac5a4c9f47f27e3f096f6d3ef3a608798c2ecd3db52a\n",
      "  Stored in directory: /root/.cache/pip/wheels/29/3c/fd/7ce5c3f0666dab31a50123635e6fb5e19ceb42ce38d4e58f45\n",
      "Successfully built sacremoses\n",
      "Installing collected packages: sacremoses, sentencepiece, tokenizers, transformers\n",
      "Successfully installed sacremoses-0.0.43 sentencepiece-0.1.91 tokenizers-0.8.1rc1 transformers-3.0.2\n"
     ]
    }
   ],
   "source": [
    "\n",
    "!pip install transformers\n",
    "from transformers import RobertaTokenizer\n"
   ]
  },
  {
   "cell_type": "code",
   "execution_count": null,
   "metadata": {
    "colab": {},
    "colab_type": "code",
    "id": "BnMPirFPHldm"
   },
   "outputs": [],
   "source": []
  },
  {
   "cell_type": "code",
   "execution_count": null,
   "metadata": {
    "colab": {
     "base_uri": "https://localhost:8080/",
     "height": 122
    },
    "colab_type": "code",
    "executionInfo": {
     "elapsed": 39220,
     "status": "ok",
     "timestamp": 1598033335408,
     "user": {
      "displayName": "Kahraman koştaş",
      "photoUrl": "https://lh3.googleusercontent.com/a-/AOh14Gjz1P7fzID2R4O_AUPpUS69mK--gaX6FsLYnJLsIA=s64",
      "userId": "10886631466279441235"
     },
     "user_tz": -60
    },
    "id": "tRJR_Ne_rcRg",
    "outputId": "8997f2e8-0d09-4e1c-db9a-ed8ba31333e8"
   },
   "outputs": [],
   "source": [
    "from google.colab import drive\n",
    "\n",
    "# set environment as googledrive to folder \"resource\"\n",
    "data_path =  \"/resource/\"\n",
    "\n",
    "try:\n",
    "    drive.mount('/content/drive')\n",
    "    data_path = \"/content/drive/My Drive/resource/\"\n",
    "\n",
    "except:\n",
    "    print(\"You are not working in Colab at the moment :(\")"
   ]
  },
  {
   "cell_type": "code",
   "execution_count": 3,
   "metadata": {
    "colab": {
     "base_uri": "https://localhost:8080/",
     "height": 34
    },
    "colab_type": "code",
    "executionInfo": {
     "elapsed": 53833,
     "status": "ok",
     "timestamp": 1598033350028,
     "user": {
      "displayName": "Kahraman koştaş",
      "photoUrl": "https://lh3.googleusercontent.com/a-/AOh14Gjz1P7fzID2R4O_AUPpUS69mK--gaX6FsLYnJLsIA=s64",
      "userId": "10886631466279441235"
     },
     "user_tz": -60
    },
    "id": "BvR0q7e7miPX",
    "outputId": "2982c831-04e2-4ed1-e683-9885f2e896ed"
   },
   "outputs": [
    {
     "name": "stdout",
     "output_type": "stream",
     "text": [
      "GPU: Tesla P100-PCIE-16GB\n"
     ]
    }
   ],
   "source": [
    "import pandas as pd\n",
    "import tensorflow as tf\n",
    "import torch\n",
    "\n",
    "device_name = tf.test.gpu_device_name()\n",
    "if device_name == '/device:GPU:0':\n",
    "    device = torch.device(\"cuda\")\n",
    "    print('GPU:', torch.cuda.get_device_name(0))\n",
    "else:\n",
    "    raise SystemError('GPU device not found')"
   ]
  },
  {
   "cell_type": "code",
   "execution_count": 5,
   "metadata": {
    "colab": {
     "base_uri": "https://localhost:8080/",
     "height": 115,
     "referenced_widgets": [
      "2505f26f04954dafab3f44df8fb9db70",
      "24d0759f8a1442c0af2e5783bda74468",
      "57f941f97ffd489db591862e9c4f1da1",
      "aacdfafdc63b44a0b096cd5d6aba5ee4",
      "3308988ec9d24e6984d2f60a60929e76",
      "daf0d9f534ac45099ab3deed86f2707b",
      "dcf3655424b240878140bee0f384a0dd",
      "ee105f8646fa4adba06f128acf1030ab",
      "424db5a98abf4177858414c7703170ab",
      "59258c57bcff4baaac1149efd1098005",
      "bed25101abc245ec91ffb953197eda71",
      "7474ba1be7b64e3fa0446bb8efca8073",
      "712e51764e144ec194e1d932eae17f18",
      "b270835b9efd43b28a9acdada6d9f621",
      "e251a74216cb432d91887edfb9831dd7",
      "906dd119983c43558e0f6ee497c1e7c4"
     ]
    },
    "colab_type": "code",
    "executionInfo": {
     "elapsed": 2675,
     "status": "ok",
     "timestamp": 1598033533761,
     "user": {
      "displayName": "Kahraman koştaş",
      "photoUrl": "https://lh3.googleusercontent.com/a-/AOh14Gjz1P7fzID2R4O_AUPpUS69mK--gaX6FsLYnJLsIA=s64",
      "userId": "10886631466279441235"
     },
     "user_tz": -60
    },
    "id": "PSwjVP5lHnA0",
    "outputId": "776e3808-dcad-4ece-c454-f433aa0729b0"
   },
   "outputs": [
    {
     "data": {
      "application/vnd.jupyter.widget-view+json": {
       "model_id": "2505f26f04954dafab3f44df8fb9db70",
       "version_major": 2,
       "version_minor": 0
      },
      "text/plain": [
       "HBox(children=(FloatProgress(value=0.0, description='Downloading', max=898823.0, style=ProgressStyle(descripti…"
      ]
     },
     "metadata": {
      "tags": []
     },
     "output_type": "display_data"
    },
    {
     "name": "stdout",
     "output_type": "stream",
     "text": [
      "\n"
     ]
    },
    {
     "data": {
      "application/vnd.jupyter.widget-view+json": {
       "model_id": "424db5a98abf4177858414c7703170ab",
       "version_major": 2,
       "version_minor": 0
      },
      "text/plain": [
       "HBox(children=(FloatProgress(value=0.0, description='Downloading', max=456318.0, style=ProgressStyle(descripti…"
      ]
     },
     "metadata": {
      "tags": []
     },
     "output_type": "display_data"
    },
    {
     "name": "stdout",
     "output_type": "stream",
     "text": [
      "\n"
     ]
    }
   ],
   "source": [
    "modelname=data_path+\"nslmodel/\"\n",
    "roberta_tokenizer = RobertaTokenizer.from_pretrained(\"roberta-base\")"
   ]
  },
  {
   "cell_type": "code",
   "execution_count": 6,
   "metadata": {
    "colab": {
     "base_uri": "https://localhost:8080/",
     "height": 85
    },
    "colab_type": "code",
    "executionInfo": {
     "elapsed": 2612,
     "status": "ok",
     "timestamp": 1598033539216,
     "user": {
      "displayName": "Kahraman koştaş",
      "photoUrl": "https://lh3.googleusercontent.com/a-/AOh14Gjz1P7fzID2R4O_AUPpUS69mK--gaX6FsLYnJLsIA=s64",
      "userId": "10886631466279441235"
     },
     "user_tz": -60
    },
    "id": "-skKu91jrcVG",
    "outputId": "111074bf-5db9-418f-ab03-bcf713e95e61"
   },
   "outputs": [
    {
     "name": "stdout",
     "output_type": "stream",
     "text": [
      "category\n",
      "0    58630\n",
      "1    67343\n",
      "dtype: int64\n"
     ]
    }
   ],
   "source": [
    "import pandas as pd\n",
    "# Recommended tensorflow version is <= 2.1.0, otherwise F1 score function breaks\n",
    "import tensorflow as tf\n",
    "from sklearn.metrics import f1_score\n",
    "from sklearn.model_selection import train_test_split\n",
    "import tensorflow_datasets as tfds\n",
    "from transformers import TFRobertaForSequenceClassification\n",
    "from transformers import RobertaTokenizer\n",
    "import os\n",
    "import warnings\n",
    "warnings.filterwarnings('ignore')\n",
    "warnings.simplefilter('ignore')\n",
    "\n",
    "# Load your Dataset\n",
    "dataset_path = data_path+\"new_train.csv\"\n",
    "#dataset_path = data_path+\"1.csv\"\n",
    "\n",
    "train_tweets = pd.read_csv(dataset_path,sep=\"\\t\")\n",
    "del train_tweets['index']\n",
    "train_tweets['category'] = train_tweets['category']==\"normal\"\n",
    "train_tweets['category'] = train_tweets['category'].astype('int')\n",
    "\n",
    "print(train_tweets.groupby(\"category\").size())\n",
    "#test_tweets = pd.read_csv(data_path+'new_test.csv')\n",
    "\n",
    "#test_tweets['label'] = 0\n",
    "train_tweets=train_tweets.rename(columns={\"category\":'label', \"text\":'tweet'})\n",
    "training_sentences, testing_sentences = train_test_split(train_tweets[['tweet', 'label']],\n",
    "                                                         test_size=0.1)\n",
    "\n",
    "\n",
    "#training_sentences, testing_sentences = train_test_split(testing_sentences[['tweet', 'label']], test_size=0.9)\n",
    "\n",
    "\n",
    "\n",
    "roberta_tokenizer = RobertaTokenizer.from_pretrained(\"roberta-base\")\n",
    "\n",
    "# can be up to 512 for BERT\n",
    "max_length = 100\n",
    "\n",
    "# the recommended batches size for BERT are 32,64 ... however on this dataset we are overfitting quite fast\n",
    "# and smaller batches work like a regularization.\n",
    "# You might play with adding another dropout layer instead.\n",
    "\n",
    "batch_size = 64\n",
    "\n",
    "device = torch.device(\"cuda\" if torch.cuda.is_available() else \"cpu\")\n"
   ]
  },
  {
   "cell_type": "code",
   "execution_count": 7,
   "metadata": {
    "colab": {},
    "colab_type": "code",
    "executionInfo": {
     "elapsed": 130927,
     "status": "ok",
     "timestamp": 1598033672693,
     "user": {
      "displayName": "Kahraman koştaş",
      "photoUrl": "https://lh3.googleusercontent.com/a-/AOh14Gjz1P7fzID2R4O_AUPpUS69mK--gaX6FsLYnJLsIA=s64",
      "userId": "10886631466279441235"
     },
     "user_tz": -60
    },
    "id": "1wPNqTAThMr7"
   },
   "outputs": [],
   "source": [
    "import logging\n",
    "logging.basicConfig(level=logging.ERROR)\n",
    "def convert_example_to_feature(review):\n",
    "    # combine step for tokenization, WordPiece vector mapping and will\n",
    "    # add also special tokens and truncate reviews longer than our max length\n",
    "    return roberta_tokenizer.encode_plus(review,\n",
    "                                 add_special_tokens=True,  # add [CLS], [SEP]\n",
    "                                 max_length=max_length,  # max length of the text that can go to RoBERTa\n",
    "                                 pad_to_max_length=True,  # add [PAD] tokens at the end of sentence\n",
    "                                 return_attention_mask=True,  # add attention mask to not focus on pad tokens\n",
    "                                 )\n",
    "\n",
    "# map to the expected input to TFRobertaForSequenceClassification, see here\n",
    "def map_example_to_dict(input_ids, attention_masks, label):\n",
    "    return {\n",
    "      \"input_ids\": input_ids,\n",
    "      \"attention_mask\": attention_masks,\n",
    "           }, label\n",
    "\n",
    "def encode_examples(ds, limit=-1):\n",
    "    # Prepare Input list\n",
    "    input_ids_list = []\n",
    "    attention_mask_list = []\n",
    "    label_list = []\n",
    "\n",
    "    if (limit > 0):\n",
    "        ds = ds.take(limit)\n",
    "\n",
    "    for review, label in tfds.as_numpy(ds):\n",
    "        bert_input = convert_example_to_feature(review.decode())\n",
    "        input_ids_list.append(bert_input['input_ids'])\n",
    "        attention_mask_list.append(bert_input['attention_mask'])\n",
    "        label_list.append([label])\n",
    "\n",
    "    return tf.data.Dataset.from_tensor_slices((input_ids_list,\n",
    "                                               attention_mask_list,\n",
    "                                               label_list)).map(map_example_to_dict)\n",
    "\n",
    "training_sentences_modified = tf.data.Dataset.from_tensor_slices((training_sentences['tweet'],\n",
    "                                                                  training_sentences['label']))\n",
    "\n",
    "testing_sentences_modified = tf.data.Dataset.from_tensor_slices((testing_sentences['tweet'],\n",
    "                                                                 testing_sentences['label']))\n",
    "\n",
    "ds_train_encoded = encode_examples(training_sentences_modified).shuffle(10000).batch(batch_size)\n",
    "ds_test_encoded = encode_examples(testing_sentences_modified).batch(batch_size)\n",
    "\n",
    "\n",
    "\n",
    "learning_rate = 7e-5\n",
    "number_of_epochs = 3\n",
    "\n",
    "\n"
   ]
  },
  {
   "cell_type": "code",
   "execution_count": 8,
   "metadata": {
    "colab": {},
    "colab_type": "code",
    "executionInfo": {
     "elapsed": 127636,
     "status": "ok",
     "timestamp": 1598033672701,
     "user": {
      "displayName": "Kahraman koştaş",
      "photoUrl": "https://lh3.googleusercontent.com/a-/AOh14Gjz1P7fzID2R4O_AUPpUS69mK--gaX6FsLYnJLsIA=s64",
      "userId": "10886631466279441235"
     },
     "user_tz": -60
    },
    "id": "aN6LIfF3NlRP"
   },
   "outputs": [],
   "source": [
    "class ModelMetrics(tf.keras.callbacks.Callback):\n",
    "    def on_train_begin(self, logs={}):\n",
    "        self.count_n = 1\n",
    "      \n",
    "    def on_epoch_end(self, batch, logs={}):\n",
    "       \n",
    "        os.mkdir(data_path + str(self.count_n))\n",
    "        print(3)\n",
    "        self.model.save_pretrained(data_path + str(self.count_n)) # this folder address should match with folder we created above\n",
    "        print(4)\n",
    "        y_val_pred = tf.nn.softmax(self.model.predict(ds_test_encoded))\n",
    "        print(5)\n",
    "        y_pred_argmax = tf.math.argmax(y_val_pred, axis=1)\n",
    "        print(6)\n",
    "        testing_copy = testing_sentences.copy()\n",
    "        print(7)\n",
    "        print( y_pred_argmax, len(y_pred_argmax))\n",
    "        #testing_copy['predicted'] = y_pred_argmax\n",
    "        print(8)\n",
    "        #f1_s = f1_score(testing_sentences['label'], testing_copy['predicted'])\n",
    "        print(9)\n",
    "        #print('\\n f1 score is :', f1_s)\n",
    "        self.count_n += 1"
   ]
  },
  {
   "cell_type": "code",
   "execution_count": 9,
   "metadata": {
    "colab": {
     "base_uri": "https://localhost:8080/",
     "height": 115,
     "referenced_widgets": [
      "80c5a47878664da2989abfd7252c0af8",
      "27baee65ec124cf7bf2e557b7f58bcbf",
      "c024a78ea16c4e52ac761834cf499ea9",
      "d1a3faf4f3d9471991648d0e408cfdec",
      "1c9562a0c9334beebe6f1be5a79026df",
      "25060bf487ab440baa1b178a8d6b1848",
      "8e1a23a2bcaa4a5686784346c8219186",
      "008de07797d54c80ae9c2c0a5a661e84",
      "a5c30660707247a7b6a48bf1689fd0f8",
      "1f08987e3c174239a15791481a862242",
      "ab44202040c5405ba485cfee7c167729",
      "30c62260a429477bb2e837f25bb1ad92",
      "4aeb46b7f903476f983fdf0f709d0785",
      "624de224ece345fd96a518e7744b2681",
      "9a0c16ef283a43fdb152997646cb489e",
      "60c22e18c3b646f191d26ecc19f71cff"
     ]
    },
    "colab_type": "code",
    "executionInfo": {
     "elapsed": 14917,
     "status": "ok",
     "timestamp": 1598033687642,
     "user": {
      "displayName": "Kahraman koştaş",
      "photoUrl": "https://lh3.googleusercontent.com/a-/AOh14Gjz1P7fzID2R4O_AUPpUS69mK--gaX6FsLYnJLsIA=s64",
      "userId": "10886631466279441235"
     },
     "user_tz": -60
    },
    "id": "JkfkzwR5rcYz",
    "outputId": "b538bfb6-8059-48d2-872e-20f9808dd5cf"
   },
   "outputs": [
    {
     "data": {
      "application/vnd.jupyter.widget-view+json": {
       "model_id": "80c5a47878664da2989abfd7252c0af8",
       "version_major": 2,
       "version_minor": 0
      },
      "text/plain": [
       "HBox(children=(FloatProgress(value=0.0, description='Downloading', max=481.0, style=ProgressStyle(description_…"
      ]
     },
     "metadata": {
      "tags": []
     },
     "output_type": "display_data"
    },
    {
     "name": "stdout",
     "output_type": "stream",
     "text": [
      "\n"
     ]
    },
    {
     "data": {
      "application/vnd.jupyter.widget-view+json": {
       "model_id": "a5c30660707247a7b6a48bf1689fd0f8",
       "version_major": 2,
       "version_minor": 0
      },
      "text/plain": [
       "HBox(children=(FloatProgress(value=0.0, description='Downloading', max=657434796.0, style=ProgressStyle(descri…"
      ]
     },
     "metadata": {
      "tags": []
     },
     "output_type": "display_data"
    },
    {
     "name": "stdout",
     "output_type": "stream",
     "text": [
      "\n"
     ]
    }
   ],
   "source": [
    "\n",
    "metrics = ModelMetrics()\n",
    "\n",
    "# model initialization\n",
    "model = TFRobertaForSequenceClassification.from_pretrained(\"roberta-base\")\n",
    "optimizer = tf.keras.optimizers.Adam(learning_rate=learning_rate, epsilon=1e-08)\n",
    "\n",
    "\n",
    "loss = tf.keras.losses.SparseCategoricalCrossentropy(from_logits=True)\n",
    "metric = tf.keras.metrics.SparseCategoricalAccuracy('accuracy')\n",
    "model.compile(optimizer=optimizer, loss=loss, metrics=[metric])\n"
   ]
  },
  {
   "cell_type": "code",
   "execution_count": 10,
   "metadata": {
    "colab": {
     "base_uri": "https://localhost:8080/",
     "height": 343
    },
    "colab_type": "code",
    "executionInfo": {
     "elapsed": 1381487,
     "status": "ok",
     "timestamp": 1598035054222,
     "user": {
      "displayName": "Kahraman koştaş",
      "photoUrl": "https://lh3.googleusercontent.com/a-/AOh14Gjz1P7fzID2R4O_AUPpUS69mK--gaX6FsLYnJLsIA=s64",
      "userId": "10886631466279441235"
     },
     "user_tz": -60
    },
    "id": "ByN3b1KchP6J",
    "outputId": "33eef661-68b1-499c-9802-21b866ad6cf3"
   },
   "outputs": [
    {
     "name": "stdout",
     "output_type": "stream",
     "text": [
      "WARNING:tensorflow:Gradients do not exist for variables ['tf_roberta_for_sequence_classification/roberta/pooler/dense/kernel:0', 'tf_roberta_for_sequence_classification/roberta/pooler/dense/bias:0'] when minimizing the loss.\n"
     ]
    },
    {
     "name": "stderr",
     "output_type": "stream",
     "text": [
      "WARNING:tensorflow:Gradients do not exist for variables ['tf_roberta_for_sequence_classification/roberta/pooler/dense/kernel:0', 'tf_roberta_for_sequence_classification/roberta/pooler/dense/bias:0'] when minimizing the loss.\n"
     ]
    },
    {
     "name": "stdout",
     "output_type": "stream",
     "text": [
      "WARNING:tensorflow:Gradients do not exist for variables ['tf_roberta_for_sequence_classification/roberta/pooler/dense/kernel:0', 'tf_roberta_for_sequence_classification/roberta/pooler/dense/bias:0'] when minimizing the loss.\n"
     ]
    },
    {
     "name": "stderr",
     "output_type": "stream",
     "text": [
      "WARNING:tensorflow:Gradients do not exist for variables ['tf_roberta_for_sequence_classification/roberta/pooler/dense/kernel:0', 'tf_roberta_for_sequence_classification/roberta/pooler/dense/bias:0'] when minimizing the loss.\n"
     ]
    },
    {
     "name": "stdout",
     "output_type": "stream",
     "text": [
      "WARNING:tensorflow:Gradients do not exist for variables ['tf_roberta_for_sequence_classification/roberta/pooler/dense/kernel:0', 'tf_roberta_for_sequence_classification/roberta/pooler/dense/bias:0'] when minimizing the loss.\n"
     ]
    },
    {
     "name": "stderr",
     "output_type": "stream",
     "text": [
      "WARNING:tensorflow:Gradients do not exist for variables ['tf_roberta_for_sequence_classification/roberta/pooler/dense/kernel:0', 'tf_roberta_for_sequence_classification/roberta/pooler/dense/bias:0'] when minimizing the loss.\n"
     ]
    },
    {
     "name": "stdout",
     "output_type": "stream",
     "text": [
      "WARNING:tensorflow:Gradients do not exist for variables ['tf_roberta_for_sequence_classification/roberta/pooler/dense/kernel:0', 'tf_roberta_for_sequence_classification/roberta/pooler/dense/bias:0'] when minimizing the loss.\n"
     ]
    },
    {
     "name": "stderr",
     "output_type": "stream",
     "text": [
      "WARNING:tensorflow:Gradients do not exist for variables ['tf_roberta_for_sequence_classification/roberta/pooler/dense/kernel:0', 'tf_roberta_for_sequence_classification/roberta/pooler/dense/bias:0'] when minimizing the loss.\n"
     ]
    },
    {
     "name": "stdout",
     "output_type": "stream",
     "text": [
      "1772/1772 [==============================] - ETA: 0s - loss: 0.0395 - accuracy: 0.98743\n",
      "4\n",
      "5\n",
      "6\n",
      "7\n",
      "tf.Tensor([[11187  5547]], shape=(1, 2), dtype=int64) 1\n",
      "8\n",
      "9\n",
      "1772/1772 [==============================] - 1351s 762ms/step - loss: 0.0395 - accuracy: 0.9874 - val_loss: 0.0149 - val_accuracy: 0.9949\n"
     ]
    },
    {
     "data": {
      "text/plain": [
       "<tensorflow.python.keras.callbacks.History at 0x7fc030c8b198>"
      ]
     },
     "execution_count": 10,
     "metadata": {
      "tags": []
     },
     "output_type": "execute_result"
    }
   ],
   "source": [
    "number_of_epochs=1\n",
    "model.fit(ds_train_encoded, epochs=number_of_epochs, validation_data=ds_test_encoded, callbacks=[metrics])"
   ]
  },
  {
   "cell_type": "code",
   "execution_count": 11,
   "metadata": {
    "colab": {
     "base_uri": "https://localhost:8080/",
     "height": 85
    },
    "colab_type": "code",
    "executionInfo": {
     "elapsed": 1405719,
     "status": "ok",
     "timestamp": 1598035078461,
     "user": {
      "displayName": "Kahraman koştaş",
      "photoUrl": "https://lh3.googleusercontent.com/a-/AOh14Gjz1P7fzID2R4O_AUPpUS69mK--gaX6FsLYnJLsIA=s64",
      "userId": "10886631466279441235"
     },
     "user_tz": -60
    },
    "id": "EJ1Q7QP7mGJ1",
    "outputId": "83c2e424-16d3-4031-dad0-9848b420e646"
   },
   "outputs": [
    {
     "name": "stdout",
     "output_type": "stream",
     "text": [
      "category\n",
      "0    12833\n",
      "1     9710\n",
      "dtype: int64\n"
     ]
    }
   ],
   "source": [
    "dataset_path = data_path+\"new_test.csv\"\n",
    "\n",
    "\n",
    "test_tweets = pd.read_csv(dataset_path,sep=\"\\t\")\n",
    "del test_tweets['index']\n",
    "test_tweets['category'] = test_tweets['category']==\"normal\"\n",
    "test_tweets['category'] = test_tweets['category'].astype('int')\n",
    "\n",
    "\n",
    "\n",
    "print(test_tweets.groupby(\"category\").size())\n",
    "\n",
    "\n",
    "\n",
    "test_tweets=test_tweets.rename(columns={\"category\":'label', \"text\":'tweet'})\n",
    "\n",
    "\n",
    "                                                   test_size=0.1)\n",
    "\n",
    "\n",
    "\n",
    "testing_sentences_modified = tf.data.Dataset.from_tensor_slices((test_tweets['tweet'],\n",
    "                                                                 test_tweets['label']))\n",
    "xds_test_encoded = encode_examples(testing_sentences_modified).batch(batch_size)"
   ]
  },
  {
   "cell_type": "code",
   "execution_count": 12,
   "metadata": {
    "colab": {
     "base_uri": "https://localhost:8080/",
     "height": 51
    },
    "colab_type": "code",
    "executionInfo": {
     "elapsed": 1491995,
     "status": "ok",
     "timestamp": 1598035164743,
     "user": {
      "displayName": "Kahraman koştaş",
      "photoUrl": "https://lh3.googleusercontent.com/a-/AOh14Gjz1P7fzID2R4O_AUPpUS69mK--gaX6FsLYnJLsIA=s64",
      "userId": "10886631466279441235"
     },
     "user_tz": -60
    },
    "id": "8q5hVg1OmdaE",
    "outputId": "7f6a4c4c-ac6b-4f98-e81d-85842a9b2f99"
   },
   "outputs": [
    {
     "name": "stdout",
     "output_type": "stream",
     "text": [
      "353/353 [==============================] - 86s 244ms/step - loss: 0.9595 - accuracy: 0.7451\n",
      "test loss, test acc: [0.9595157504081726, 0.7451093196868896]\n"
     ]
    }
   ],
   "source": [
    "results2 = model.evaluate(xds_test_encoded, batch_size=128)\n",
    "print(\"test loss, test acc:\", results2)"
   ]
  },
  {
   "cell_type": "code",
   "execution_count": 13,
   "metadata": {
    "colab": {
     "base_uri": "https://localhost:8080/",
     "height": 136
    },
    "colab_type": "code",
    "executionInfo": {
     "elapsed": 1575399,
     "status": "ok",
     "timestamp": 1598035248154,
     "user": {
      "displayName": "Kahraman koştaş",
      "photoUrl": "https://lh3.googleusercontent.com/a-/AOh14Gjz1P7fzID2R4O_AUPpUS69mK--gaX6FsLYnJLsIA=s64",
      "userId": "10886631466279441235"
     },
     "user_tz": -60
    },
    "id": "FBdF1GxsiJ05",
    "outputId": "c2d729de-b599-4afd-d73b-ca9f070455d5"
   },
   "outputs": [
    {
     "data": {
      "text/plain": [
       "(array([[ 4.3489513, -3.8516464],\n",
       "        [ 4.3556414, -3.8560417],\n",
       "        [-2.1192849,  1.9248699],\n",
       "        ...,\n",
       "        [ 4.173135 , -3.7300236],\n",
       "        [-3.7325394,  3.3782246],\n",
       "        [ 4.131412 , -3.6682734]], dtype=float32),)"
      ]
     },
     "execution_count": 13,
     "metadata": {
      "tags": []
     },
     "output_type": "execute_result"
    }
   ],
   "source": [
    "a=model.predict(xds_test_encoded)\n",
    "a"
   ]
  },
  {
   "cell_type": "code",
   "execution_count": 14,
   "metadata": {
    "colab": {},
    "colab_type": "code",
    "executionInfo": {
     "elapsed": 1575402,
     "status": "ok",
     "timestamp": 1598035248161,
     "user": {
      "displayName": "Kahraman koştaş",
      "photoUrl": "https://lh3.googleusercontent.com/a-/AOh14Gjz1P7fzID2R4O_AUPpUS69mK--gaX6FsLYnJLsIA=s64",
      "userId": "10886631466279441235"
     },
     "user_tz": -60
    },
    "id": "PvdG-tY0iJ4m"
   },
   "outputs": [],
   "source": [
    "import numpy as np\n",
    "\n",
    "\n",
    "prediction_set = []\n",
    "\n",
    "for i in range(len(a)):\n",
    "  pred_labels_i = np.argmax(a[i], axis=1).flatten()\n",
    "  prediction_set.append(pred_labels_i)\n",
    "\n",
    "prediction_scores = [item for sublist in prediction_set for item in sublist]"
   ]
  },
  {
   "cell_type": "code",
   "execution_count": 15,
   "metadata": {
    "colab": {
     "base_uri": "https://localhost:8080/",
     "height": 68
    },
    "colab_type": "code",
    "executionInfo": {
     "elapsed": 1575394,
     "status": "ok",
     "timestamp": 1598035248162,
     "user": {
      "displayName": "Kahraman koştaş",
      "photoUrl": "https://lh3.googleusercontent.com/a-/AOh14Gjz1P7fzID2R4O_AUPpUS69mK--gaX6FsLYnJLsIA=s64",
      "userId": "10886631466279441235"
     },
     "user_tz": -60
    },
    "id": "Pc-NS_DNiJ8X",
    "outputId": "53fe98eb-8e2c-4fc0-ec67-ff4402c0897a"
   },
   "outputs": [
    {
     "name": "stdout",
     "output_type": "stream",
     "text": [
      "F-Score:  0.7443370448743442\n",
      "Recall:  0.7674524267740153\n",
      "Precision:  0.7795782994101736\n"
     ]
    }
   ],
   "source": [
    "from sklearn.metrics import f1_score\n",
    "from sklearn.metrics import recall_score\n",
    "from sklearn.metrics import precision_score\n",
    "from sklearn.metrics import classification_report\n",
    "from sklearn.preprocessing import LabelEncoder\n",
    "\n",
    "\n",
    "\n",
    "test_labels=test_tweets[\"label\"].values\n",
    "\n",
    "\n",
    "f_score = f1_score(test_labels, prediction_scores, average='macro')\n",
    "precision = precision_score(test_labels, prediction_scores, average='macro')\n",
    "recall = recall_score(test_labels, prediction_scores, average='macro')\n",
    "print(\"F-Score: \", f_score)\n",
    "print(\"Recall: \", recall)\n",
    "print(\"Precision: \", precision)\n",
    "\n",
    "\n",
    "\n",
    "report = pd.DataFrame(classification_report(test_labels, prediction_scores, output_dict=True))\n",
    "report = report.rename(columns={'0':'0',\n",
    "                          '1':'1',\n",
    "                          '2':'2',\n",
    "                          '3':'3',\n",
    "                          '4':'4'})"
   ]
  },
  {
   "cell_type": "code",
   "execution_count": 16,
   "metadata": {
    "colab": {
     "base_uri": "https://localhost:8080/",
     "height": 286
    },
    "colab_type": "code",
    "executionInfo": {
     "elapsed": 1575902,
     "status": "ok",
     "timestamp": 1598035248679,
     "user": {
      "displayName": "Kahraman koştaş",
      "photoUrl": "https://lh3.googleusercontent.com/a-/AOh14Gjz1P7fzID2R4O_AUPpUS69mK--gaX6FsLYnJLsIA=s64",
      "userId": "10886631466279441235"
     },
     "user_tz": -60
    },
    "id": "SPZWUKq-iJ_f",
    "outputId": "ea7a27c5-324e-4d93-ddfd-e7e01a03aa07"
   },
   "outputs": [
    {
     "data": {
      "text/plain": [
       "<matplotlib.axes._subplots.AxesSubplot at 0x7fbc9d8f48d0>"
      ]
     },
     "execution_count": 16,
     "metadata": {
      "tags": []
     },
     "output_type": "execute_result"
    },
    {
     "data": {
      "image/png": "[encoded data removed]",
      "text/plain": [
       "<Figure size 432x288 with 2 Axes>"
      ]
     },
     "metadata": {
      "needs_background": "light",
      "tags": []
     },
     "output_type": "display_data"
    }
   ],
   "source": [
    "from sklearn.metrics import confusion_matrix\n",
    "cm=confusion_matrix(test_labels, prediction_scores)\n",
    "import seaborn as sns\n",
    "sns.heatmap(cm, annot=True)"
   ]
  },
  {
   "cell_type": "code",
   "execution_count": 17,
   "metadata": {
    "colab": {
     "base_uri": "https://localhost:8080/",
     "height": 51
    },
    "colab_type": "code",
    "executionInfo": {
     "elapsed": 1575897,
     "status": "ok",
     "timestamp": 1598035248682,
     "user": {
      "displayName": "Kahraman koştaş",
      "photoUrl": "https://lh3.googleusercontent.com/a-/AOh14Gjz1P7fzID2R4O_AUPpUS69mK--gaX6FsLYnJLsIA=s64",
      "userId": "10886631466279441235"
     },
     "user_tz": -60
    },
    "id": "d9Fq0bgOiKC2",
    "outputId": "c59b212c-86bf-4725-a8e7-522c1261bfdc"
   },
   "outputs": [
    {
     "data": {
      "text/plain": [
       "array([[7779, 5054],\n",
       "       [ 692, 9018]])"
      ]
     },
     "execution_count": 17,
     "metadata": {
      "tags": []
     },
     "output_type": "execute_result"
    }
   ],
   "source": [
    "cm"
   ]
  },
  {
   "cell_type": "code",
   "execution_count": null,
   "metadata": {
    "colab": {},
    "colab_type": "code",
    "id": "DRkhI0SPiKGJ"
   },
   "outputs": [],
   "source": []
  },
  {
   "cell_type": "code",
   "execution_count": null,
   "metadata": {
    "colab": {},
    "colab_type": "code",
    "id": "17EhrtQHiKJH"
   },
   "outputs": [],
   "source": []
  },
  {
   "cell_type": "code",
   "execution_count": null,
   "metadata": {
    "colab": {},
    "colab_type": "code",
    "id": "MlWlR5Flt2xZ"
   },
   "outputs": [],
   "source": []
  },
  {
   "cell_type": "code",
   "execution_count": null,
   "metadata": {
    "colab": {},
    "colab_type": "code",
    "id": "jBUdKONit2z-"
   },
   "outputs": [],
   "source": []
  }
 ],
 "metadata": {
  "accelerator": "GPU",
  "colab": {
   "authorship_tag": "ABX9TyMEQCjl6B/Ll2h206QMtXGa",
   "collapsed_sections": [],
   "name": "nslkerata_binary_correct.ipynb",
   "provenance": []
  },
  "kernelspec": {
   "display_name": "Python 3",
   "language": "python",
   "name": "python3"
  },
  "language_info": {
   "codemirror_mode": {
    "name": "ipython",
    "version": 3
   },
   "file_extension": ".py",
   "mimetype": "text/x-python",
   "name": "python",
   "nbconvert_exporter": "python",
   "pygments_lexer": "ipython3",
   "version": "3.6.5"
  },
  "widgets": {
   "application/vnd.jupyter.widget-state+json": {
    "008de07797d54c80ae9c2c0a5a661e84": {
     "model_module": "@jupyter-widgets/base",
     "model_name": "LayoutModel",
     "state": {
      "_model_module": "@jupyter-widgets/base",
      "_model_module_version": "1.2.0",
      "_model_name": "LayoutModel",
      "_view_count": null,
      "_view_module": "@jupyter-widgets/base",
      "_view_module_version": "1.2.0",
      "_view_name": "LayoutView",
      "align_content": null,
      "align_items": null,
      "align_self": null,
      "border": null,
      "bottom": null,
      "display": null,
      "flex": null,
      "flex_flow": null,
      "grid_area": null,
      "grid_auto_columns": null,
      "grid_auto_flow": null,
      "grid_auto_rows": null,
      "grid_column": null,
      "grid_gap": null,
      "grid_row": null,
      "grid_template_areas": null,
      "grid_template_columns": null,
      "grid_template_rows": null,
      "height": null,
      "justify_content": null,
      "justify_items": null,
      "left": null,
      "margin": null,
      "max_height": null,
      "max_width": null,
      "min_height": null,
      "min_width": null,
      "object_fit": null,
      "object_position": null,
      "order": null,
      "overflow": null,
      "overflow_x": null,
      "overflow_y": null,
      "padding": null,
      "right": null,
      "top": null,
      "visibility": null,
      "width": null
     }
    },
    "1c9562a0c9334beebe6f1be5a79026df": {
     "model_module": "@jupyter-widgets/controls",
     "model_name": "ProgressStyleModel",
     "state": {
      "_model_module": "@jupyter-widgets/controls",
      "_model_module_version": "1.5.0",
      "_model_name": "ProgressStyleModel",
      "_view_count": null,
      "_view_module": "@jupyter-widgets/base",
      "_view_module_version": "1.2.0",
      "_view_name": "StyleView",
      "bar_color": null,
      "description_width": "initial"
     }
    },
    "1f08987e3c174239a15791481a862242": {
     "model_module": "@jupyter-widgets/base",
     "model_name": "LayoutModel",
     "state": {
      "_model_module": "@jupyter-widgets/base",
      "_model_module_version": "1.2.0",
      "_model_name": "LayoutModel",
      "_view_count": null,
      "_view_module": "@jupyter-widgets/base",
      "_view_module_version": "1.2.0",
      "_view_name": "LayoutView",
      "align_content": null,
      "align_items": null,
      "align_self": null,
      "border": null,
      "bottom": null,
      "display": null,
      "flex": null,
      "flex_flow": null,
      "grid_area": null,
      "grid_auto_columns": null,
      "grid_auto_flow": null,
      "grid_auto_rows": null,
      "grid_column": null,
      "grid_gap": null,
      "grid_row": null,
      "grid_template_areas": null,
      "grid_template_columns": null,
      "grid_template_rows": null,
      "height": null,
      "justify_content": null,
      "justify_items": null,
      "left": null,
      "margin": null,
      "max_height": null,
      "max_width": null,
      "min_height": null,
      "min_width": null,
      "object_fit": null,
      "object_position": null,
      "order": null,
      "overflow": null,
      "overflow_x": null,
      "overflow_y": null,
      "padding": null,
      "right": null,
      "top": null,
      "visibility": null,
      "width": null
     }
    },
    "24d0759f8a1442c0af2e5783bda74468": {
     "model_module": "@jupyter-widgets/base",
     "model_name": "LayoutModel",
     "state": {
      "_model_module": "@jupyter-widgets/base",
      "_model_module_version": "1.2.0",
      "_model_name": "LayoutModel",
      "_view_count": null,
      "_view_module": "@jupyter-widgets/base",
      "_view_module_version": "1.2.0",
      "_view_name": "LayoutView",
      "align_content": null,
      "align_items": null,
      "align_self": null,
      "border": null,
      "bottom": null,
      "display": null,
      "flex": null,
      "flex_flow": null,
      "grid_area": null,
      "grid_auto_columns": null,
      "grid_auto_flow": null,
      "grid_auto_rows": null,
      "grid_column": null,
      "grid_gap": null,
      "grid_row": null,
      "grid_template_areas": null,
      "grid_template_columns": null,
      "grid_template_rows": null,
      "height": null,
      "justify_content": null,
      "justify_items": null,
      "left": null,
      "margin": null,
      "max_height": null,
      "max_width": null,
      "min_height": null,
      "min_width": null,
      "object_fit": null,
      "object_position": null,
      "order": null,
      "overflow": null,
      "overflow_x": null,
      "overflow_y": null,
      "padding": null,
      "right": null,
      "top": null,
      "visibility": null,
      "width": null
     }
    },
    "2505f26f04954dafab3f44df8fb9db70": {
     "model_module": "@jupyter-widgets/controls",
     "model_name": "HBoxModel",
     "state": {
      "_dom_classes": [],
      "_model_module": "@jupyter-widgets/controls",
      "_model_module_version": "1.5.0",
      "_model_name": "HBoxModel",
      "_view_count": null,
      "_view_module": "@jupyter-widgets/controls",
      "_view_module_version": "1.5.0",
      "_view_name": "HBoxView",
      "box_style": "",
      "children": [
       "IPY_MODEL_57f941f97ffd489db591862e9c4f1da1",
       "IPY_MODEL_aacdfafdc63b44a0b096cd5d6aba5ee4"
      ],
      "layout": "IPY_MODEL_24d0759f8a1442c0af2e5783bda74468"
     }
    },
    "25060bf487ab440baa1b178a8d6b1848": {
     "model_module": "@jupyter-widgets/base",
     "model_name": "LayoutModel",
     "state": {
      "_model_module": "@jupyter-widgets/base",
      "_model_module_version": "1.2.0",
      "_model_name": "LayoutModel",
      "_view_count": null,
      "_view_module": "@jupyter-widgets/base",
      "_view_module_version": "1.2.0",
      "_view_name": "LayoutView",
      "align_content": null,
      "align_items": null,
      "align_self": null,
      "border": null,
      "bottom": null,
      "display": null,
      "flex": null,
      "flex_flow": null,
      "grid_area": null,
      "grid_auto_columns": null,
      "grid_auto_flow": null,
      "grid_auto_rows": null,
      "grid_column": null,
      "grid_gap": null,
      "grid_row": null,
      "grid_template_areas": null,
      "grid_template_columns": null,
      "grid_template_rows": null,
      "height": null,
      "justify_content": null,
      "justify_items": null,
      "left": null,
      "margin": null,
      "max_height": null,
      "max_width": null,
      "min_height": null,
      "min_width": null,
      "object_fit": null,
      "object_position": null,
      "order": null,
      "overflow": null,
      "overflow_x": null,
      "overflow_y": null,
      "padding": null,
      "right": null,
      "top": null,
      "visibility": null,
      "width": null
     }
    },
    "27baee65ec124cf7bf2e557b7f58bcbf": {
     "model_module": "@jupyter-widgets/base",
     "model_name": "LayoutModel",
     "state": {
      "_model_module": "@jupyter-widgets/base",
      "_model_module_version": "1.2.0",
      "_model_name": "LayoutModel",
      "_view_count": null,
      "_view_module": "@jupyter-widgets/base",
      "_view_module_version": "1.2.0",
      "_view_name": "LayoutView",
      "align_content": null,
      "align_items": null,
      "align_self": null,
      "border": null,
      "bottom": null,
      "display": null,
      "flex": null,
      "flex_flow": null,
      "grid_area": null,
      "grid_auto_columns": null,
      "grid_auto_flow": null,
      "grid_auto_rows": null,
      "grid_column": null,
      "grid_gap": null,
      "grid_row": null,
      "grid_template_areas": null,
      "grid_template_columns": null,
      "grid_template_rows": null,
      "height": null,
      "justify_content": null,
      "justify_items": null,
      "left": null,
      "margin": null,
      "max_height": null,
      "max_width": null,
      "min_height": null,
      "min_width": null,
      "object_fit": null,
      "object_position": null,
      "order": null,
      "overflow": null,
      "overflow_x": null,
      "overflow_y": null,
      "padding": null,
      "right": null,
      "top": null,
      "visibility": null,
      "width": null
     }
    },
    "30c62260a429477bb2e837f25bb1ad92": {
     "model_module": "@jupyter-widgets/controls",
     "model_name": "HTMLModel",
     "state": {
      "_dom_classes": [],
      "_model_module": "@jupyter-widgets/controls",
      "_model_module_version": "1.5.0",
      "_model_name": "HTMLModel",
      "_view_count": null,
      "_view_module": "@jupyter-widgets/controls",
      "_view_module_version": "1.5.0",
      "_view_name": "HTMLView",
      "description": "",
      "description_tooltip": null,
      "layout": "IPY_MODEL_60c22e18c3b646f191d26ecc19f71cff",
      "placeholder": "​",
      "style": "IPY_MODEL_9a0c16ef283a43fdb152997646cb489e",
      "value": " 657M/657M [00:10&lt;00:00, 63.2MB/s]"
     }
    },
    "3308988ec9d24e6984d2f60a60929e76": {
     "model_module": "@jupyter-widgets/controls",
     "model_name": "ProgressStyleModel",
     "state": {
      "_model_module": "@jupyter-widgets/controls",
      "_model_module_version": "1.5.0",
      "_model_name": "ProgressStyleModel",
      "_view_count": null,
      "_view_module": "@jupyter-widgets/base",
      "_view_module_version": "1.2.0",
      "_view_name": "StyleView",
      "bar_color": null,
      "description_width": "initial"
     }
    },
    "424db5a98abf4177858414c7703170ab": {
     "model_module": "@jupyter-widgets/controls",
     "model_name": "HBoxModel",
     "state": {
      "_dom_classes": [],
      "_model_module": "@jupyter-widgets/controls",
      "_model_module_version": "1.5.0",
      "_model_name": "HBoxModel",
      "_view_count": null,
      "_view_module": "@jupyter-widgets/controls",
      "_view_module_version": "1.5.0",
      "_view_name": "HBoxView",
      "box_style": "",
      "children": [
       "IPY_MODEL_bed25101abc245ec91ffb953197eda71",
       "IPY_MODEL_7474ba1be7b64e3fa0446bb8efca8073"
      ],
      "layout": "IPY_MODEL_59258c57bcff4baaac1149efd1098005"
     }
    },
    "4aeb46b7f903476f983fdf0f709d0785": {
     "model_module": "@jupyter-widgets/controls",
     "model_name": "ProgressStyleModel",
     "state": {
      "_model_module": "@jupyter-widgets/controls",
      "_model_module_version": "1.5.0",
      "_model_name": "ProgressStyleModel",
      "_view_count": null,
      "_view_module": "@jupyter-widgets/base",
      "_view_module_version": "1.2.0",
      "_view_name": "StyleView",
      "bar_color": null,
      "description_width": "initial"
     }
    },
    "57f941f97ffd489db591862e9c4f1da1": {
     "model_module": "@jupyter-widgets/controls",
     "model_name": "FloatProgressModel",
     "state": {
      "_dom_classes": [],
      "_model_module": "@jupyter-widgets/controls",
      "_model_module_version": "1.5.0",
      "_model_name": "FloatProgressModel",
      "_view_count": null,
      "_view_module": "@jupyter-widgets/controls",
      "_view_module_version": "1.5.0",
      "_view_name": "ProgressView",
      "bar_style": "success",
      "description": "Downloading: 100%",
      "description_tooltip": null,
      "layout": "IPY_MODEL_daf0d9f534ac45099ab3deed86f2707b",
      "max": 898823,
      "min": 0,
      "orientation": "horizontal",
      "style": "IPY_MODEL_3308988ec9d24e6984d2f60a60929e76",
      "value": 898823
     }
    },
    "59258c57bcff4baaac1149efd1098005": {
     "model_module": "@jupyter-widgets/base",
     "model_name": "LayoutModel",
     "state": {
      "_model_module": "@jupyter-widgets/base",
      "_model_module_version": "1.2.0",
      "_model_name": "LayoutModel",
      "_view_count": null,
      "_view_module": "@jupyter-widgets/base",
      "_view_module_version": "1.2.0",
      "_view_name": "LayoutView",
      "align_content": null,
      "align_items": null,
      "align_self": null,
      "border": null,
      "bottom": null,
      "display": null,
      "flex": null,
      "flex_flow": null,
      "grid_area": null,
      "grid_auto_columns": null,
      "grid_auto_flow": null,
      "grid_auto_rows": null,
      "grid_column": null,
      "grid_gap": null,
      "grid_row": null,
      "grid_template_areas": null,
      "grid_template_columns": null,
      "grid_template_rows": null,
      "height": null,
      "justify_content": null,
      "justify_items": null,
      "left": null,
      "margin": null,
      "max_height": null,
      "max_width": null,
      "min_height": null,
      "min_width": null,
      "object_fit": null,
      "object_position": null,
      "order": null,
      "overflow": null,
      "overflow_x": null,
      "overflow_y": null,
      "padding": null,
      "right": null,
      "top": null,
      "visibility": null,
      "width": null
     }
    },
    "60c22e18c3b646f191d26ecc19f71cff": {
     "model_module": "@jupyter-widgets/base",
     "model_name": "LayoutModel",
     "state": {
      "_model_module": "@jupyter-widgets/base",
      "_model_module_version": "1.2.0",
      "_model_name": "LayoutModel",
      "_view_count": null,
      "_view_module": "@jupyter-widgets/base",
      "_view_module_version": "1.2.0",
      "_view_name": "LayoutView",
      "align_content": null,
      "align_items": null,
      "align_self": null,
      "border": null,
      "bottom": null,
      "display": null,
      "flex": null,
      "flex_flow": null,
      "grid_area": null,
      "grid_auto_columns": null,
      "grid_auto_flow": null,
      "grid_auto_rows": null,
      "grid_column": null,
      "grid_gap": null,
      "grid_row": null,
      "grid_template_areas": null,
      "grid_template_columns": null,
      "grid_template_rows": null,
      "height": null,
      "justify_content": null,
      "justify_items": null,
      "left": null,
      "margin": null,
      "max_height": null,
      "max_width": null,
      "min_height": null,
      "min_width": null,
      "object_fit": null,
      "object_position": null,
      "order": null,
      "overflow": null,
      "overflow_x": null,
      "overflow_y": null,
      "padding": null,
      "right": null,
      "top": null,
      "visibility": null,
      "width": null
     }
    },
    "624de224ece345fd96a518e7744b2681": {
     "model_module": "@jupyter-widgets/base",
     "model_name": "LayoutModel",
     "state": {
      "_model_module": "@jupyter-widgets/base",
      "_model_module_version": "1.2.0",
      "_model_name": "LayoutModel",
      "_view_count": null,
      "_view_module": "@jupyter-widgets/base",
      "_view_module_version": "1.2.0",
      "_view_name": "LayoutView",
      "align_content": null,
      "align_items": null,
      "align_self": null,
      "border": null,
      "bottom": null,
      "display": null,
      "flex": null,
      "flex_flow": null,
      "grid_area": null,
      "grid_auto_columns": null,
      "grid_auto_flow": null,
      "grid_auto_rows": null,
      "grid_column": null,
      "grid_gap": null,
      "grid_row": null,
      "grid_template_areas": null,
      "grid_template_columns": null,
      "grid_template_rows": null,
      "height": null,
      "justify_content": null,
      "justify_items": null,
      "left": null,
      "margin": null,
      "max_height": null,
      "max_width": null,
      "min_height": null,
      "min_width": null,
      "object_fit": null,
      "object_position": null,
      "order": null,
      "overflow": null,
      "overflow_x": null,
      "overflow_y": null,
      "padding": null,
      "right": null,
      "top": null,
      "visibility": null,
      "width": null
     }
    },
    "712e51764e144ec194e1d932eae17f18": {
     "model_module": "@jupyter-widgets/controls",
     "model_name": "ProgressStyleModel",
     "state": {
      "_model_module": "@jupyter-widgets/controls",
      "_model_module_version": "1.5.0",
      "_model_name": "ProgressStyleModel",
      "_view_count": null,
      "_view_module": "@jupyter-widgets/base",
      "_view_module_version": "1.2.0",
      "_view_name": "StyleView",
      "bar_color": null,
      "description_width": "initial"
     }
    },
    "7474ba1be7b64e3fa0446bb8efca8073": {
     "model_module": "@jupyter-widgets/controls",
     "model_name": "HTMLModel",
     "state": {
      "_dom_classes": [],
      "_model_module": "@jupyter-widgets/controls",
      "_model_module_version": "1.5.0",
      "_model_name": "HTMLModel",
      "_view_count": null,
      "_view_module": "@jupyter-widgets/controls",
      "_view_module_version": "1.5.0",
      "_view_name": "HTMLView",
      "description": "",
      "description_tooltip": null,
      "layout": "IPY_MODEL_906dd119983c43558e0f6ee497c1e7c4",
      "placeholder": "​",
      "style": "IPY_MODEL_e251a74216cb432d91887edfb9831dd7",
      "value": " 456k/456k [00:00&lt;00:00, 1.34MB/s]"
     }
    },
    "80c5a47878664da2989abfd7252c0af8": {
     "model_module": "@jupyter-widgets/controls",
     "model_name": "HBoxModel",
     "state": {
      "_dom_classes": [],
      "_model_module": "@jupyter-widgets/controls",
      "_model_module_version": "1.5.0",
      "_model_name": "HBoxModel",
      "_view_count": null,
      "_view_module": "@jupyter-widgets/controls",
      "_view_module_version": "1.5.0",
      "_view_name": "HBoxView",
      "box_style": "",
      "children": [
       "IPY_MODEL_c024a78ea16c4e52ac761834cf499ea9",
       "IPY_MODEL_d1a3faf4f3d9471991648d0e408cfdec"
      ],
      "layout": "IPY_MODEL_27baee65ec124cf7bf2e557b7f58bcbf"
     }
    },
    "8e1a23a2bcaa4a5686784346c8219186": {
     "model_module": "@jupyter-widgets/controls",
     "model_name": "DescriptionStyleModel",
     "state": {
      "_model_module": "@jupyter-widgets/controls",
      "_model_module_version": "1.5.0",
      "_model_name": "DescriptionStyleModel",
      "_view_count": null,
      "_view_module": "@jupyter-widgets/base",
      "_view_module_version": "1.2.0",
      "_view_name": "StyleView",
      "description_width": ""
     }
    },
    "906dd119983c43558e0f6ee497c1e7c4": {
     "model_module": "@jupyter-widgets/base",
     "model_name": "LayoutModel",
     "state": {
      "_model_module": "@jupyter-widgets/base",
      "_model_module_version": "1.2.0",
      "_model_name": "LayoutModel",
      "_view_count": null,
      "_view_module": "@jupyter-widgets/base",
      "_view_module_version": "1.2.0",
      "_view_name": "LayoutView",
      "align_content": null,
      "align_items": null,
      "align_self": null,
      "border": null,
      "bottom": null,
      "display": null,
      "flex": null,
      "flex_flow": null,
      "grid_area": null,
      "grid_auto_columns": null,
      "grid_auto_flow": null,
      "grid_auto_rows": null,
      "grid_column": null,
      "grid_gap": null,
      "grid_row": null,
      "grid_template_areas": null,
      "grid_template_columns": null,
      "grid_template_rows": null,
      "height": null,
      "justify_content": null,
      "justify_items": null,
      "left": null,
      "margin": null,
      "max_height": null,
      "max_width": null,
      "min_height": null,
      "min_width": null,
      "object_fit": null,
      "object_position": null,
      "order": null,
      "overflow": null,
      "overflow_x": null,
      "overflow_y": null,
      "padding": null,
      "right": null,
      "top": null,
      "visibility": null,
      "width": null
     }
    },
    "9a0c16ef283a43fdb152997646cb489e": {
     "model_module": "@jupyter-widgets/controls",
     "model_name": "DescriptionStyleModel",
     "state": {
      "_model_module": "@jupyter-widgets/controls",
      "_model_module_version": "1.5.0",
      "_model_name": "DescriptionStyleModel",
      "_view_count": null,
      "_view_module": "@jupyter-widgets/base",
      "_view_module_version": "1.2.0",
      "_view_name": "StyleView",
      "description_width": ""
     }
    },
    "a5c30660707247a7b6a48bf1689fd0f8": {
     "model_module": "@jupyter-widgets/controls",
     "model_name": "HBoxModel",
     "state": {
      "_dom_classes": [],
      "_model_module": "@jupyter-widgets/controls",
      "_model_module_version": "1.5.0",
      "_model_name": "HBoxModel",
      "_view_count": null,
      "_view_module": "@jupyter-widgets/controls",
      "_view_module_version": "1.5.0",
      "_view_name": "HBoxView",
      "box_style": "",
      "children": [
       "IPY_MODEL_ab44202040c5405ba485cfee7c167729",
       "IPY_MODEL_30c62260a429477bb2e837f25bb1ad92"
      ],
      "layout": "IPY_MODEL_1f08987e3c174239a15791481a862242"
     }
    },
    "aacdfafdc63b44a0b096cd5d6aba5ee4": {
     "model_module": "@jupyter-widgets/controls",
     "model_name": "HTMLModel",
     "state": {
      "_dom_classes": [],
      "_model_module": "@jupyter-widgets/controls",
      "_model_module_version": "1.5.0",
      "_model_name": "HTMLModel",
      "_view_count": null,
      "_view_module": "@jupyter-widgets/controls",
      "_view_module_version": "1.5.0",
      "_view_name": "HTMLView",
      "description": "",
      "description_tooltip": null,
      "layout": "IPY_MODEL_ee105f8646fa4adba06f128acf1030ab",
      "placeholder": "​",
      "style": "IPY_MODEL_dcf3655424b240878140bee0f384a0dd",
      "value": " 899k/899k [00:01&lt;00:00, 643kB/s]"
     }
    },
    "ab44202040c5405ba485cfee7c167729": {
     "model_module": "@jupyter-widgets/controls",
     "model_name": "FloatProgressModel",
     "state": {
      "_dom_classes": [],
      "_model_module": "@jupyter-widgets/controls",
      "_model_module_version": "1.5.0",
      "_model_name": "FloatProgressModel",
      "_view_count": null,
      "_view_module": "@jupyter-widgets/controls",
      "_view_module_version": "1.5.0",
      "_view_name": "ProgressView",
      "bar_style": "success",
      "description": "Downloading: 100%",
      "description_tooltip": null,
      "layout": "IPY_MODEL_624de224ece345fd96a518e7744b2681",
      "max": 657434796,
      "min": 0,
      "orientation": "horizontal",
      "style": "IPY_MODEL_4aeb46b7f903476f983fdf0f709d0785",
      "value": 657434796
     }
    },
    "b270835b9efd43b28a9acdada6d9f621": {
     "model_module": "@jupyter-widgets/base",
     "model_name": "LayoutModel",
     "state": {
      "_model_module": "@jupyter-widgets/base",
      "_model_module_version": "1.2.0",
      "_model_name": "LayoutModel",
      "_view_count": null,
      "_view_module": "@jupyter-widgets/base",
      "_view_module_version": "1.2.0",
      "_view_name": "LayoutView",
      "align_content": null,
      "align_items": null,
      "align_self": null,
      "border": null,
      "bottom": null,
      "display": null,
      "flex": null,
      "flex_flow": null,
      "grid_area": null,
      "grid_auto_columns": null,
      "grid_auto_flow": null,
      "grid_auto_rows": null,
      "grid_column": null,
      "grid_gap": null,
      "grid_row": null,
      "grid_template_areas": null,
      "grid_template_columns": null,
      "grid_template_rows": null,
      "height": null,
      "justify_content": null,
      "justify_items": null,
      "left": null,
      "margin": null,
      "max_height": null,
      "max_width": null,
      "min_height": null,
      "min_width": null,
      "object_fit": null,
      "object_position": null,
      "order": null,
      "overflow": null,
      "overflow_x": null,
      "overflow_y": null,
      "padding": null,
      "right": null,
      "top": null,
      "visibility": null,
      "width": null
     }
    },
    "bed25101abc245ec91ffb953197eda71": {
     "model_module": "@jupyter-widgets/controls",
     "model_name": "FloatProgressModel",
     "state": {
      "_dom_classes": [],
      "_model_module": "@jupyter-widgets/controls",
      "_model_module_version": "1.5.0",
      "_model_name": "FloatProgressModel",
      "_view_count": null,
      "_view_module": "@jupyter-widgets/controls",
      "_view_module_version": "1.5.0",
      "_view_name": "ProgressView",
      "bar_style": "success",
      "description": "Downloading: 100%",
      "description_tooltip": null,
      "layout": "IPY_MODEL_b270835b9efd43b28a9acdada6d9f621",
      "max": 456318,
      "min": 0,
      "orientation": "horizontal",
      "style": "IPY_MODEL_712e51764e144ec194e1d932eae17f18",
      "value": 456318
     }
    },
    "c024a78ea16c4e52ac761834cf499ea9": {
     "model_module": "@jupyter-widgets/controls",
     "model_name": "FloatProgressModel",
     "state": {
      "_dom_classes": [],
      "_model_module": "@jupyter-widgets/controls",
      "_model_module_version": "1.5.0",
      "_model_name": "FloatProgressModel",
      "_view_count": null,
      "_view_module": "@jupyter-widgets/controls",
      "_view_module_version": "1.5.0",
      "_view_name": "ProgressView",
      "bar_style": "success",
      "description": "Downloading: 100%",
      "description_tooltip": null,
      "layout": "IPY_MODEL_25060bf487ab440baa1b178a8d6b1848",
      "max": 481,
      "min": 0,
      "orientation": "horizontal",
      "style": "IPY_MODEL_1c9562a0c9334beebe6f1be5a79026df",
      "value": 481
     }
    },
    "d1a3faf4f3d9471991648d0e408cfdec": {
     "model_module": "@jupyter-widgets/controls",
     "model_name": "HTMLModel",
     "state": {
      "_dom_classes": [],
      "_model_module": "@jupyter-widgets/controls",
      "_model_module_version": "1.5.0",
      "_model_name": "HTMLModel",
      "_view_count": null,
      "_view_module": "@jupyter-widgets/controls",
      "_view_module_version": "1.5.0",
      "_view_name": "HTMLView",
      "description": "",
      "description_tooltip": null,
      "layout": "IPY_MODEL_008de07797d54c80ae9c2c0a5a661e84",
      "placeholder": "​",
      "style": "IPY_MODEL_8e1a23a2bcaa4a5686784346c8219186",
      "value": " 481/481 [00:00&lt;00:00, 1.45kB/s]"
     }
    },
    "daf0d9f534ac45099ab3deed86f2707b": {
     "model_module": "@jupyter-widgets/base",
     "model_name": "LayoutModel",
     "state": {
      "_model_module": "@jupyter-widgets/base",
      "_model_module_version": "1.2.0",
      "_model_name": "LayoutModel",
      "_view_count": null,
      "_view_module": "@jupyter-widgets/base",
      "_view_module_version": "1.2.0",
      "_view_name": "LayoutView",
      "align_content": null,
      "align_items": null,
      "align_self": null,
      "border": null,
      "bottom": null,
      "display": null,
      "flex": null,
      "flex_flow": null,
      "grid_area": null,
      "grid_auto_columns": null,
      "grid_auto_flow": null,
      "grid_auto_rows": null,
      "grid_column": null,
      "grid_gap": null,
      "grid_row": null,
      "grid_template_areas": null,
      "grid_template_columns": null,
      "grid_template_rows": null,
      "height": null,
      "justify_content": null,
      "justify_items": null,
      "left": null,
      "margin": null,
      "max_height": null,
      "max_width": null,
      "min_height": null,
      "min_width": null,
      "object_fit": null,
      "object_position": null,
      "order": null,
      "overflow": null,
      "overflow_x": null,
      "overflow_y": null,
      "padding": null,
      "right": null,
      "top": null,
      "visibility": null,
      "width": null
     }
    },
    "dcf3655424b240878140bee0f384a0dd": {
     "model_module": "@jupyter-widgets/controls",
     "model_name": "DescriptionStyleModel",
     "state": {
      "_model_module": "@jupyter-widgets/controls",
      "_model_module_version": "1.5.0",
      "_model_name": "DescriptionStyleModel",
      "_view_count": null,
      "_view_module": "@jupyter-widgets/base",
      "_view_module_version": "1.2.0",
      "_view_name": "StyleView",
      "description_width": ""
     }
    },
    "e251a74216cb432d91887edfb9831dd7": {
     "model_module": "@jupyter-widgets/controls",
     "model_name": "DescriptionStyleModel",
     "state": {
      "_model_module": "@jupyter-widgets/controls",
      "_model_module_version": "1.5.0",
      "_model_name": "DescriptionStyleModel",
      "_view_count": null,
      "_view_module": "@jupyter-widgets/base",
      "_view_module_version": "1.2.0",
      "_view_name": "StyleView",
      "description_width": ""
     }
    },
    "ee105f8646fa4adba06f128acf1030ab": {
     "model_module": "@jupyter-widgets/base",
     "model_name": "LayoutModel",
     "state": {
      "_model_module": "@jupyter-widgets/base",
      "_model_module_version": "1.2.0",
      "_model_name": "LayoutModel",
      "_view_count": null,
      "_view_module": "@jupyter-widgets/base",
      "_view_module_version": "1.2.0",
      "_view_name": "LayoutView",
      "align_content": null,
      "align_items": null,
      "align_self": null,
      "border": null,
      "bottom": null,
      "display": null,
      "flex": null,
      "flex_flow": null,
      "grid_area": null,
      "grid_auto_columns": null,
      "grid_auto_flow": null,
      "grid_auto_rows": null,
      "grid_column": null,
      "grid_gap": null,
      "grid_row": null,
      "grid_template_areas": null,
      "grid_template_columns": null,
      "grid_template_rows": null,
      "height": null,
      "justify_content": null,
      "justify_items": null,
      "left": null,
      "margin": null,
      "max_height": null,
      "max_width": null,
      "min_height": null,
      "min_width": null,
      "object_fit": null,
      "object_position": null,
      "order": null,
      "overflow": null,
      "overflow_x": null,
      "overflow_y": null,
      "padding": null,
      "right": null,
      "top": null,
      "visibility": null,
      "width": null
     }
    }
   }
  }
 },
 "nbformat": 4,
 "nbformat_minor": 1
}
